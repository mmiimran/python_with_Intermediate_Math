{
 "cells": [
  {
   "cell_type": "code",
   "execution_count": null,
   "id": "d74056b6",
   "metadata": {},
   "outputs": [],
   "source": []
  },
  {
   "cell_type": "code",
   "execution_count": 1,
   "id": "5f42e6c3",
   "metadata": {},
   "outputs": [
    {
     "name": "stdout",
     "output_type": "stream",
     "text": [
      "Shape of the array: (2, 3)\n"
     ]
    }
   ],
   "source": [
    "#order of Matrix | shape of matrix\n",
    "import numpy as np\n",
    "\n",
    "# Create a sample array\n",
    "arr = np.array([[1, 2, 3], [4, 5, 6]])\n",
    "\n",
    "# Check the shape of the array\n",
    "shape = arr.shape\n",
    "\n",
    "print(\"Shape of the array:\", shape)\n",
    "\n"
   ]
  },
  {
   "cell_type": "code",
   "execution_count": 18,
   "id": "fc5c695c",
   "metadata": {},
   "outputs": [
    {
     "name": "stdout",
     "output_type": "stream",
     "text": [
      "[[ 1  2  3]\n",
      " [ 4  5  6]\n",
      " [ 7  8  9]\n",
      " [11 12 13]]\n"
     ]
    }
   ],
   "source": [
    "import numpy as imran\n",
    "arr = imran.array([[1,2,3],[4,5,6],[7,8,9],[11,12,13]])\n",
    "print(arr)"
   ]
  },
  {
   "cell_type": "code",
   "execution_count": 22,
   "id": "681f1d8d",
   "metadata": {},
   "outputs": [
    {
     "name": "stdout",
     "output_type": "stream",
     "text": [
      "Shape of array is (4, 3) ****** Here Row is 4 and column is 3 it represent as RxC or m x n =(4X3) and reading m by n\n"
     ]
    }
   ],
   "source": [
    "shape = arr.shape\n",
    "print(f\"Shape of array is {shape} ****** Here Row is {shape[0]} and column is {shape[1]} it represent as RxC or m x n =({shape[0]}X{shape[1]}) and reading m by n\")"
   ]
  },
  {
   "cell_type": "code",
   "execution_count": 17,
   "id": "7c0c7d71",
   "metadata": {},
   "outputs": [],
   "source": [
    "# Here 2 is Rows and 3 is columns"
   ]
  },
  {
   "cell_type": "code",
   "execution_count": 28,
   "id": "37a65bbb",
   "metadata": {},
   "outputs": [
    {
     "name": "stdout",
     "output_type": "stream",
     "text": [
      "Position of value 5: (array([2], dtype=int64), array([1], dtype=int64))\n",
      "\n",
      "Position of value 5:\n",
      "Row index: 2\n",
      "Column index: 1\n"
     ]
    }
   ],
   "source": [
    "import numpy as np\n",
    "\n",
    "# Define a sample matrix\n",
    "matrix = np.array([[1, 2, 3],\n",
    "                   [4, 5, 6],\n",
    "                   [7, 8, 9]])\n",
    "\n",
    "# Find the position of value 5\n",
    "indices = np.where(matrix == 8)\n",
    "\n",
    "# Print the indices\n",
    "print(\"Position of value 5:\", indices)\n",
    "print(\"\\nPosition of value 5:\")\n",
    "print(\"Row index:\", indices[0][0])\n",
    "print(\"Column index:\", indices[1][0])\n"
   ]
  },
  {
   "cell_type": "code",
   "execution_count": 29,
   "id": "0e6966f9",
   "metadata": {},
   "outputs": [
    {
     "name": "stdout",
     "output_type": "stream",
     "text": [
      "The matrix is a row matrix.\n"
     ]
    }
   ],
   "source": [
    "import numpy as np\n",
    "\n",
    "# Define a sample matrix\n",
    "matrix = np.array([[1, 2, 3]])\n",
    "\n",
    "# Check if it's a row matrix\n",
    "if matrix.shape[0] == 1:\n",
    "    print(\"The matrix is a row matrix.\")\n",
    "else:\n",
    "    print(\"The matrix is not a row matrix.\")\n"
   ]
  },
  {
   "cell_type": "code",
   "execution_count": 38,
   "id": "00c7bfcc",
   "metadata": {},
   "outputs": [
    {
     "name": "stdout",
     "output_type": "stream",
     "text": [
      "(1, 3)\n",
      "The matrix is a row matrix.\n"
     ]
    }
   ],
   "source": [
    "import numpy as np\n",
    "\n",
    "# Define a sample matrix\n",
    "matrix = np.array([[1, 2, 3]])\n",
    "print(matrix.shape)\n",
    "\n",
    "# Check if it's a row matrix\n",
    "if matrix.shape[0] == 1:\n",
    "    print(\"The matrix is a row matrix.\")\n",
    "else:\n",
    "    print(\"The matrix is is not row matrix.\")"
   ]
  },
  {
   "cell_type": "code",
   "execution_count": 40,
   "id": "e9fb58ff",
   "metadata": {},
   "outputs": [
    {
     "name": "stdout",
     "output_type": "stream",
     "text": [
      "The matrix is a row matrix.\n"
     ]
    }
   ],
   "source": [
    "def rowMatrix(r):\n",
    "    if r.shape[0] == 1:\n",
    "        print(\"The matrix is a row matrix.\")\n",
    "    else:\n",
    "        print(\"The matrix is is not row matrix.\")\n",
    "rowMatrix(matrix)        "
   ]
  },
  {
   "cell_type": "code",
   "execution_count": 51,
   "id": "9fdd9699",
   "metadata": {},
   "outputs": [
    {
     "name": "stdout",
     "output_type": "stream",
     "text": [
      "The matrix is not Column matrix order is (3, 3).\n",
      "Total elements 9\n"
     ]
    }
   ],
   "source": [
    "def ColumnMatrix(c):\n",
    "    if c.shape[1] == 0:\n",
    "        print(f\"The matrix is a Column matrix order is {c.shape}.\\n Total elements{c.size}\")\n",
    "    else:\n",
    "        print(f\"The matrix is not Column matrix order is {c.shape}.\\nTotal elements {c.size}\")\n",
    "ColumnMatrix(matrix)"
   ]
  },
  {
   "cell_type": "code",
   "execution_count": 44,
   "id": "5e48fc36",
   "metadata": {},
   "outputs": [
    {
     "name": "stdout",
     "output_type": "stream",
     "text": [
      "Diagonal elements of the matrix: [1 5 9]\n"
     ]
    }
   ],
   "source": [
    "import numpy as np\n",
    "\n",
    "# Define a sample matrix\n",
    "matrix = np.array([[1, 2, 3],\n",
    "                   [4, 5, 6],\n",
    "                   [7, 8, 9]])\n",
    "\n",
    "# Get the diagonal elements\n",
    "diagonal_elements = np.diagonal(matrix)\n",
    "\n",
    "# Print the diagonal elements\n",
    "print(\"Diagonal elements of the matrix:\", diagonal_elements)"
   ]
  },
  {
   "cell_type": "code",
   "execution_count": null,
   "id": "195fa1ee",
   "metadata": {},
   "outputs": [],
   "source": []
  }
 ],
 "metadata": {
  "kernelspec": {
   "display_name": "Python 3 (ipykernel)",
   "language": "python",
   "name": "python3"
  },
  "language_info": {
   "codemirror_mode": {
    "name": "ipython",
    "version": 3
   },
   "file_extension": ".py",
   "mimetype": "text/x-python",
   "name": "python",
   "nbconvert_exporter": "python",
   "pygments_lexer": "ipython3",
   "version": "3.11.5"
  }
 },
 "nbformat": 4,
 "nbformat_minor": 5
}
